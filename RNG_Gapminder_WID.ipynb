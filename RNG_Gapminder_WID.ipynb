{
  "nbformat": 4,
  "nbformat_minor": 0,
  "metadata": {
    "colab": {
      "name": "Gapminder_WID.ipynb",
      "provenance": [],
      "include_colab_link": true
    },
    "kernelspec": {
      "name": "python3",
      "display_name": "Python 3"
    },
    "language_info": {
      "name": "python"
    }
  },
  "cells": [
    {
      "cell_type": "markdown",
      "metadata": {
        "id": "view-in-github",
        "colab_type": "text"
      },
      "source": [
        "<a href=\"https://colab.research.google.com/github/gonzalesricardo/PARADIGMAS-DE-LINGUAGEM-DE-PROGRAMA-O/blob/main/RNG_Gapminder_WID.ipynb\" target=\"_parent\"><img src=\"https://colab.research.google.com/assets/colab-badge.svg\" alt=\"Open In Colab\"/></a>"
      ]
    },
    {
      "cell_type": "markdown",
      "metadata": {
        "id": "pqEhMdFQO3A-"
      },
      "source": [
        "<head>\n",
        "  <meta name=\"author\" content=\"Rogério de Oliveira\">\n",
        "  <meta institution=\"author\" content=\"Universidade Presbiteriana Mackenzie\">\n",
        "</head>\n",
        "\n",
        "<img src=\"http://meusite.mackenzie.br/rogerio/mackenzie_logo/UPM.2_horizontal_vermelho.jpg\" width=300, align=\"right\"> \n",
        "\n",
        "<h1 align=left><font size = 8, style=\"color:rgb(200,0,0)\"><b>Ciência de Dados </b></font></h1> \n",
        "<h1 align=left><font size = 5, style=\"color:rgb(0,0,0)\"><b>Paradigmas de Linguagens de\n",
        "Programação para Ciência de Dados</b></font></h1> \n",
        "\n",
        "*Rogério de Oliveira* \n",
        "\n",
        "<br>\n",
        "<br>\n",
        "\n",
        "---\n"
      ]
    },
    {
      "cell_type": "markdown",
      "metadata": {
        "id": "RF6ir604nnMx"
      },
      "source": [
        "Este é um material de apoio para Atividade de Aprofundamento 2. Ele mostra como obter e tratar dados do [Gapminder](https://www.gapminder.org/) e do [WID](https://wid.world/). Você pode empregar uma ou ambas as fontes de dados. "
      ]
    },
    {
      "cell_type": "markdown",
      "metadata": {
        "id": "UFDbeT5zhRgw"
      },
      "source": [
        "# Gapminder"
      ]
    },
    {
      "cell_type": "markdown",
      "metadata": {
        "id": "M-p-_p9TfZCg"
      },
      "source": [
        "![imagem](https://www.gapminder.org/wp-content/themes/gapminder2/images/gapminder-logo.svg)"
      ]
    },
    {
      "cell_type": "markdown",
      "metadata": {
        "id": "dmOO9YVbfyfS"
      },
      "source": [
        "Essa é uma importante fonte de dados aberta que contêm diversas informações e índices relacionados ao desenvolvimento dos países.\n",
        "\n",
        "Acesse [aqui](https://www.gapminder.org/data/) para extrair os dados. \n",
        "\n",
        "Escolha os dados de seu interesse. Faça o download no formato `.csv` para o local que desejar."
      ]
    },
    {
      "cell_type": "code",
      "metadata": {
        "id": "norYk22sOihD"
      },
      "source": [
        "import pandas as pd\n",
        "\n",
        "renda_per_capita = pd.read_csv('/content/income_per_person_gdppercapita_ppp_inflation_adjusted.csv')\n"
      ],
      "execution_count": 168,
      "outputs": []
    },
    {
      "cell_type": "markdown",
      "metadata": {
        "id": "yRiFfyn2gaGS"
      },
      "source": [
        "# Preparação dos Dados\n",
        "\n",
        "Vamos obter aqui dados de escolaridade e emissões de co2 do Brasil. O Gapminder fornece esses dados em conjuntos separados e vamos combinar esses dados para nossa análise."
      ]
    },
    {
      "cell_type": "code",
      "metadata": {
        "colab": {
          "base_uri": "https://localhost:8080/",
          "height": 129
        },
        "id": "ztT0M3yBOui4",
        "outputId": "a17a0c16-5b74-4462-9f8d-f2d44ba5fb98"
      },
      "source": [
        "renda_per_capita_Angola = renda_per_capita[ renda_per_capita.country == 'Angola']\n",
        "renda_per_capita_Angola.head()"
      ],
      "execution_count": 179,
      "outputs": [
        {
          "output_type": "execute_result",
          "data": {
            "text/html": [
              "<div>\n",
              "<style scoped>\n",
              "    .dataframe tbody tr th:only-of-type {\n",
              "        vertical-align: middle;\n",
              "    }\n",
              "\n",
              "    .dataframe tbody tr th {\n",
              "        vertical-align: top;\n",
              "    }\n",
              "\n",
              "    .dataframe thead th {\n",
              "        text-align: right;\n",
              "    }\n",
              "</style>\n",
              "<table border=\"1\" class=\"dataframe\">\n",
              "  <thead>\n",
              "    <tr style=\"text-align: right;\">\n",
              "      <th></th>\n",
              "      <th>country</th>\n",
              "      <th>1799</th>\n",
              "      <th>1800</th>\n",
              "      <th>1801</th>\n",
              "      <th>1802</th>\n",
              "      <th>1803</th>\n",
              "      <th>1804</th>\n",
              "      <th>1805</th>\n",
              "      <th>1806</th>\n",
              "      <th>1807</th>\n",
              "      <th>1808</th>\n",
              "      <th>1809</th>\n",
              "      <th>1810</th>\n",
              "      <th>1811</th>\n",
              "      <th>1812</th>\n",
              "      <th>1813</th>\n",
              "      <th>1814</th>\n",
              "      <th>1815</th>\n",
              "      <th>1816</th>\n",
              "      <th>1817</th>\n",
              "      <th>1818</th>\n",
              "      <th>1819</th>\n",
              "      <th>1820</th>\n",
              "      <th>1821</th>\n",
              "      <th>1822</th>\n",
              "      <th>1823</th>\n",
              "      <th>1824</th>\n",
              "      <th>1825</th>\n",
              "      <th>1826</th>\n",
              "      <th>1827</th>\n",
              "      <th>1828</th>\n",
              "      <th>1829</th>\n",
              "      <th>1830</th>\n",
              "      <th>1831</th>\n",
              "      <th>1832</th>\n",
              "      <th>1833</th>\n",
              "      <th>1834</th>\n",
              "      <th>1835</th>\n",
              "      <th>1836</th>\n",
              "      <th>1837</th>\n",
              "      <th>...</th>\n",
              "      <th>2010</th>\n",
              "      <th>2011</th>\n",
              "      <th>2012</th>\n",
              "      <th>2013</th>\n",
              "      <th>2014</th>\n",
              "      <th>2015</th>\n",
              "      <th>2016</th>\n",
              "      <th>2017</th>\n",
              "      <th>2018</th>\n",
              "      <th>2019</th>\n",
              "      <th>2020</th>\n",
              "      <th>2021</th>\n",
              "      <th>2022</th>\n",
              "      <th>2023</th>\n",
              "      <th>2024</th>\n",
              "      <th>2025</th>\n",
              "      <th>2026</th>\n",
              "      <th>2027</th>\n",
              "      <th>2028</th>\n",
              "      <th>2029</th>\n",
              "      <th>2030</th>\n",
              "      <th>2031</th>\n",
              "      <th>2032</th>\n",
              "      <th>2033</th>\n",
              "      <th>2034</th>\n",
              "      <th>2035</th>\n",
              "      <th>2036</th>\n",
              "      <th>2037</th>\n",
              "      <th>2038</th>\n",
              "      <th>2039</th>\n",
              "      <th>2040</th>\n",
              "      <th>2041</th>\n",
              "      <th>2042</th>\n",
              "      <th>2043</th>\n",
              "      <th>2044</th>\n",
              "      <th>2045</th>\n",
              "      <th>2046</th>\n",
              "      <th>2047</th>\n",
              "      <th>2048</th>\n",
              "      <th>2049</th>\n",
              "    </tr>\n",
              "  </thead>\n",
              "  <tbody>\n",
              "    <tr>\n",
              "      <th>1</th>\n",
              "      <td>Angola</td>\n",
              "      <td>691</td>\n",
              "      <td>693</td>\n",
              "      <td>697</td>\n",
              "      <td>700</td>\n",
              "      <td>702</td>\n",
              "      <td>705</td>\n",
              "      <td>709</td>\n",
              "      <td>712</td>\n",
              "      <td>716</td>\n",
              "      <td>718</td>\n",
              "      <td>721</td>\n",
              "      <td>724</td>\n",
              "      <td>728</td>\n",
              "      <td>731</td>\n",
              "      <td>735</td>\n",
              "      <td>738</td>\n",
              "      <td>740</td>\n",
              "      <td>743</td>\n",
              "      <td>747</td>\n",
              "      <td>750</td>\n",
              "      <td>754</td>\n",
              "      <td>754</td>\n",
              "      <td>755</td>\n",
              "      <td>756</td>\n",
              "      <td>756</td>\n",
              "      <td>757</td>\n",
              "      <td>757</td>\n",
              "      <td>758</td>\n",
              "      <td>758</td>\n",
              "      <td>759</td>\n",
              "      <td>759</td>\n",
              "      <td>761</td>\n",
              "      <td>761</td>\n",
              "      <td>762</td>\n",
              "      <td>762</td>\n",
              "      <td>762</td>\n",
              "      <td>763</td>\n",
              "      <td>763</td>\n",
              "      <td>764</td>\n",
              "      <td>...</td>\n",
              "      <td>7680</td>\n",
              "      <td>8040</td>\n",
              "      <td>8140</td>\n",
              "      <td>8240</td>\n",
              "      <td>8040</td>\n",
              "      <td>7570</td>\n",
              "      <td>7310</td>\n",
              "      <td>6930</td>\n",
              "      <td>6670</td>\n",
              "      <td>6220</td>\n",
              "      <td>6060</td>\n",
              "      <td>6020</td>\n",
              "      <td>6050</td>\n",
              "      <td>6090</td>\n",
              "      <td>6150</td>\n",
              "      <td>6190</td>\n",
              "      <td>6240</td>\n",
              "      <td>6300</td>\n",
              "      <td>6370</td>\n",
              "      <td>6460</td>\n",
              "      <td>6560</td>\n",
              "      <td>6680</td>\n",
              "      <td>6810</td>\n",
              "      <td>6950</td>\n",
              "      <td>7090</td>\n",
              "      <td>7240</td>\n",
              "      <td>7400</td>\n",
              "      <td>7550</td>\n",
              "      <td>7710</td>\n",
              "      <td>7880</td>\n",
              "      <td>8040</td>\n",
              "      <td>8220</td>\n",
              "      <td>8390</td>\n",
              "      <td>8570</td>\n",
              "      <td>8750</td>\n",
              "      <td>8940</td>\n",
              "      <td>9120</td>\n",
              "      <td>9320</td>\n",
              "      <td>9520</td>\n",
              "      <td>9720</td>\n",
              "    </tr>\n",
              "  </tbody>\n",
              "</table>\n",
              "<p>1 rows × 252 columns</p>\n",
              "</div>"
            ],
            "text/plain": [
              "  country  1799  1800  1801  1802  1803  ...  2044  2045  2046  2047  2048  2049\n",
              "1  Angola   691   693   697   700   702  ...  8750  8940  9120  9320  9520  9720\n",
              "\n",
              "[1 rows x 252 columns]"
            ]
          },
          "metadata": {},
          "execution_count": 179
        }
      ]
    },
    {
      "cell_type": "code",
      "metadata": {
        "colab": {
          "base_uri": "https://localhost:8080/",
          "height": 204
        },
        "id": "nxHqk6cKO_Zm",
        "outputId": "01d67204-86e4-4694-d95c-525e19dcd9c1"
      },
      "source": [
        "renda_per_capita_Angola = pd.melt(renda_per_capita_Angola, id_vars=['country']) \n",
        "renda_per_capita_Angola.head()"
      ],
      "execution_count": 181,
      "outputs": [
        {
          "output_type": "execute_result",
          "data": {
            "text/html": [
              "<div>\n",
              "<style scoped>\n",
              "    .dataframe tbody tr th:only-of-type {\n",
              "        vertical-align: middle;\n",
              "    }\n",
              "\n",
              "    .dataframe tbody tr th {\n",
              "        vertical-align: top;\n",
              "    }\n",
              "\n",
              "    .dataframe thead th {\n",
              "        text-align: right;\n",
              "    }\n",
              "</style>\n",
              "<table border=\"1\" class=\"dataframe\">\n",
              "  <thead>\n",
              "    <tr style=\"text-align: right;\">\n",
              "      <th></th>\n",
              "      <th>country</th>\n",
              "      <th>variable</th>\n",
              "      <th>value</th>\n",
              "    </tr>\n",
              "  </thead>\n",
              "  <tbody>\n",
              "    <tr>\n",
              "      <th>0</th>\n",
              "      <td>Angola</td>\n",
              "      <td>1799</td>\n",
              "      <td>691</td>\n",
              "    </tr>\n",
              "    <tr>\n",
              "      <th>1</th>\n",
              "      <td>Angola</td>\n",
              "      <td>1800</td>\n",
              "      <td>693</td>\n",
              "    </tr>\n",
              "    <tr>\n",
              "      <th>2</th>\n",
              "      <td>Angola</td>\n",
              "      <td>1801</td>\n",
              "      <td>697</td>\n",
              "    </tr>\n",
              "    <tr>\n",
              "      <th>3</th>\n",
              "      <td>Angola</td>\n",
              "      <td>1802</td>\n",
              "      <td>700</td>\n",
              "    </tr>\n",
              "    <tr>\n",
              "      <th>4</th>\n",
              "      <td>Angola</td>\n",
              "      <td>1803</td>\n",
              "      <td>702</td>\n",
              "    </tr>\n",
              "  </tbody>\n",
              "</table>\n",
              "</div>"
            ],
            "text/plain": [
              "  country variable value\n",
              "0  Angola     1799   691\n",
              "1  Angola     1800   693\n",
              "2  Angola     1801   697\n",
              "3  Angola     1802   700\n",
              "4  Angola     1803   702"
            ]
          },
          "metadata": {},
          "execution_count": 181
        }
      ]
    },
    {
      "cell_type": "code",
      "metadata": {
        "colab": {
          "base_uri": "https://localhost:8080/",
          "height": 419
        },
        "id": "TwQAwMx8Q8YB",
        "outputId": "381ea914-f186-40a9-bd96-79476fc772d7"
      },
      "source": [
        "Renda_Angola = renda_per_capita_Angola.rename(columns={'variable':'ano','value':'renda'})\n",
        "Renda_Angolano = Renda_Angola [Renda_Angola.ano > '1970']\n",
        "Renda_Angolano.head(100)"
      ],
      "execution_count": 199,
      "outputs": [
        {
          "output_type": "execute_result",
          "data": {
            "text/html": [
              "<div>\n",
              "<style scoped>\n",
              "    .dataframe tbody tr th:only-of-type {\n",
              "        vertical-align: middle;\n",
              "    }\n",
              "\n",
              "    .dataframe tbody tr th {\n",
              "        vertical-align: top;\n",
              "    }\n",
              "\n",
              "    .dataframe thead th {\n",
              "        text-align: right;\n",
              "    }\n",
              "</style>\n",
              "<table border=\"1\" class=\"dataframe\">\n",
              "  <thead>\n",
              "    <tr style=\"text-align: right;\">\n",
              "      <th></th>\n",
              "      <th>country</th>\n",
              "      <th>ano</th>\n",
              "      <th>renda</th>\n",
              "    </tr>\n",
              "  </thead>\n",
              "  <tbody>\n",
              "    <tr>\n",
              "      <th>172</th>\n",
              "      <td>Angola</td>\n",
              "      <td>1971</td>\n",
              "      <td>3140</td>\n",
              "    </tr>\n",
              "    <tr>\n",
              "      <th>173</th>\n",
              "      <td>Angola</td>\n",
              "      <td>1972</td>\n",
              "      <td>3280</td>\n",
              "    </tr>\n",
              "    <tr>\n",
              "      <th>174</th>\n",
              "      <td>Angola</td>\n",
              "      <td>1973</td>\n",
              "      <td>3140</td>\n",
              "    </tr>\n",
              "    <tr>\n",
              "      <th>175</th>\n",
              "      <td>Angola</td>\n",
              "      <td>1974</td>\n",
              "      <td>1970</td>\n",
              "    </tr>\n",
              "    <tr>\n",
              "      <th>176</th>\n",
              "      <td>Angola</td>\n",
              "      <td>1975</td>\n",
              "      <td>1750</td>\n",
              "    </tr>\n",
              "    <tr>\n",
              "      <th>...</th>\n",
              "      <td>...</td>\n",
              "      <td>...</td>\n",
              "      <td>...</td>\n",
              "    </tr>\n",
              "    <tr>\n",
              "      <th>246</th>\n",
              "      <td>Angola</td>\n",
              "      <td>2045</td>\n",
              "      <td>8940</td>\n",
              "    </tr>\n",
              "    <tr>\n",
              "      <th>247</th>\n",
              "      <td>Angola</td>\n",
              "      <td>2046</td>\n",
              "      <td>9120</td>\n",
              "    </tr>\n",
              "    <tr>\n",
              "      <th>248</th>\n",
              "      <td>Angola</td>\n",
              "      <td>2047</td>\n",
              "      <td>9320</td>\n",
              "    </tr>\n",
              "    <tr>\n",
              "      <th>249</th>\n",
              "      <td>Angola</td>\n",
              "      <td>2048</td>\n",
              "      <td>9520</td>\n",
              "    </tr>\n",
              "    <tr>\n",
              "      <th>250</th>\n",
              "      <td>Angola</td>\n",
              "      <td>2049</td>\n",
              "      <td>9720</td>\n",
              "    </tr>\n",
              "  </tbody>\n",
              "</table>\n",
              "<p>79 rows × 3 columns</p>\n",
              "</div>"
            ],
            "text/plain": [
              "    country   ano renda\n",
              "172  Angola  1971  3140\n",
              "173  Angola  1972  3280\n",
              "174  Angola  1973  3140\n",
              "175  Angola  1974  1970\n",
              "176  Angola  1975  1750\n",
              "..      ...   ...   ...\n",
              "246  Angola  2045  8940\n",
              "247  Angola  2046  9120\n",
              "248  Angola  2047  9320\n",
              "249  Angola  2048  9520\n",
              "250  Angola  2049  9720\n",
              "\n",
              "[79 rows x 3 columns]"
            ]
          },
          "metadata": {},
          "execution_count": 199
        }
      ]
    },
    {
      "cell_type": "code",
      "metadata": {
        "colab": {
          "base_uri": "https://localhost:8080/",
          "height": 129
        },
        "id": "d9RbXqMKRnfH",
        "outputId": "ad625482-1075-4705-d256-7065143b0b93"
      },
      "source": [
        "expectativa_de_vida = pd.read_csv('/content/life_expectancy_years.csv')\n",
        "expectativa_de_vida_Angola = expectativa_de_vida[ expectativa_de_vida.country == 'Angola' ]\n",
        "expectativa_de_vida_Angola"
      ],
      "execution_count": 172,
      "outputs": [
        {
          "output_type": "execute_result",
          "data": {
            "text/html": [
              "<div>\n",
              "<style scoped>\n",
              "    .dataframe tbody tr th:only-of-type {\n",
              "        vertical-align: middle;\n",
              "    }\n",
              "\n",
              "    .dataframe tbody tr th {\n",
              "        vertical-align: top;\n",
              "    }\n",
              "\n",
              "    .dataframe thead th {\n",
              "        text-align: right;\n",
              "    }\n",
              "</style>\n",
              "<table border=\"1\" class=\"dataframe\">\n",
              "  <thead>\n",
              "    <tr style=\"text-align: right;\">\n",
              "      <th></th>\n",
              "      <th>country</th>\n",
              "      <th>1799</th>\n",
              "      <th>1800</th>\n",
              "      <th>1801</th>\n",
              "      <th>1802</th>\n",
              "      <th>1803</th>\n",
              "      <th>1804</th>\n",
              "      <th>1805</th>\n",
              "      <th>1806</th>\n",
              "      <th>1807</th>\n",
              "      <th>1808</th>\n",
              "      <th>1809</th>\n",
              "      <th>1810</th>\n",
              "      <th>1811</th>\n",
              "      <th>1812</th>\n",
              "      <th>1813</th>\n",
              "      <th>1814</th>\n",
              "      <th>1815</th>\n",
              "      <th>1816</th>\n",
              "      <th>1817</th>\n",
              "      <th>1818</th>\n",
              "      <th>1819</th>\n",
              "      <th>1820</th>\n",
              "      <th>1821</th>\n",
              "      <th>1822</th>\n",
              "      <th>1823</th>\n",
              "      <th>1824</th>\n",
              "      <th>1825</th>\n",
              "      <th>1826</th>\n",
              "      <th>1827</th>\n",
              "      <th>1828</th>\n",
              "      <th>1829</th>\n",
              "      <th>1830</th>\n",
              "      <th>1831</th>\n",
              "      <th>1832</th>\n",
              "      <th>1833</th>\n",
              "      <th>1834</th>\n",
              "      <th>1835</th>\n",
              "      <th>1836</th>\n",
              "      <th>1837</th>\n",
              "      <th>...</th>\n",
              "      <th>2060</th>\n",
              "      <th>2061</th>\n",
              "      <th>2062</th>\n",
              "      <th>2063</th>\n",
              "      <th>2064</th>\n",
              "      <th>2065</th>\n",
              "      <th>2066</th>\n",
              "      <th>2067</th>\n",
              "      <th>2068</th>\n",
              "      <th>2069</th>\n",
              "      <th>2070</th>\n",
              "      <th>2071</th>\n",
              "      <th>2072</th>\n",
              "      <th>2073</th>\n",
              "      <th>2074</th>\n",
              "      <th>2075</th>\n",
              "      <th>2076</th>\n",
              "      <th>2077</th>\n",
              "      <th>2078</th>\n",
              "      <th>2079</th>\n",
              "      <th>2080</th>\n",
              "      <th>2081</th>\n",
              "      <th>2082</th>\n",
              "      <th>2083</th>\n",
              "      <th>2084</th>\n",
              "      <th>2085</th>\n",
              "      <th>2086</th>\n",
              "      <th>2087</th>\n",
              "      <th>2088</th>\n",
              "      <th>2089</th>\n",
              "      <th>2090</th>\n",
              "      <th>2091</th>\n",
              "      <th>2092</th>\n",
              "      <th>2093</th>\n",
              "      <th>2094</th>\n",
              "      <th>2095</th>\n",
              "      <th>2096</th>\n",
              "      <th>2097</th>\n",
              "      <th>2098</th>\n",
              "      <th>2099</th>\n",
              "    </tr>\n",
              "  </thead>\n",
              "  <tbody>\n",
              "    <tr>\n",
              "      <th>1</th>\n",
              "      <td>Angola</td>\n",
              "      <td>27.0</td>\n",
              "      <td>27.0</td>\n",
              "      <td>27.0</td>\n",
              "      <td>27.0</td>\n",
              "      <td>27.0</td>\n",
              "      <td>27.0</td>\n",
              "      <td>27.0</td>\n",
              "      <td>27.0</td>\n",
              "      <td>27.0</td>\n",
              "      <td>27.0</td>\n",
              "      <td>27.0</td>\n",
              "      <td>27.0</td>\n",
              "      <td>27.0</td>\n",
              "      <td>27.0</td>\n",
              "      <td>27.0</td>\n",
              "      <td>27.0</td>\n",
              "      <td>27.0</td>\n",
              "      <td>27.0</td>\n",
              "      <td>27.0</td>\n",
              "      <td>27.0</td>\n",
              "      <td>27.0</td>\n",
              "      <td>27.0</td>\n",
              "      <td>27.0</td>\n",
              "      <td>27.0</td>\n",
              "      <td>27.0</td>\n",
              "      <td>27.0</td>\n",
              "      <td>27.0</td>\n",
              "      <td>27.0</td>\n",
              "      <td>27.0</td>\n",
              "      <td>27.0</td>\n",
              "      <td>27.0</td>\n",
              "      <td>27.0</td>\n",
              "      <td>27.0</td>\n",
              "      <td>27.0</td>\n",
              "      <td>27.0</td>\n",
              "      <td>27.0</td>\n",
              "      <td>27.0</td>\n",
              "      <td>27.0</td>\n",
              "      <td>27.0</td>\n",
              "      <td>...</td>\n",
              "      <td>74.8</td>\n",
              "      <td>75.0</td>\n",
              "      <td>75.1</td>\n",
              "      <td>75.3</td>\n",
              "      <td>75.4</td>\n",
              "      <td>75.5</td>\n",
              "      <td>75.7</td>\n",
              "      <td>75.8</td>\n",
              "      <td>76.0</td>\n",
              "      <td>76.1</td>\n",
              "      <td>76.2</td>\n",
              "      <td>76.4</td>\n",
              "      <td>76.5</td>\n",
              "      <td>76.6</td>\n",
              "      <td>76.8</td>\n",
              "      <td>76.9</td>\n",
              "      <td>77.0</td>\n",
              "      <td>77.2</td>\n",
              "      <td>77.3</td>\n",
              "      <td>77.4</td>\n",
              "      <td>77.5</td>\n",
              "      <td>77.7</td>\n",
              "      <td>77.8</td>\n",
              "      <td>77.9</td>\n",
              "      <td>78.0</td>\n",
              "      <td>78.2</td>\n",
              "      <td>78.3</td>\n",
              "      <td>78.4</td>\n",
              "      <td>78.6</td>\n",
              "      <td>78.7</td>\n",
              "      <td>78.8</td>\n",
              "      <td>79.0</td>\n",
              "      <td>79.1</td>\n",
              "      <td>79.2</td>\n",
              "      <td>79.3</td>\n",
              "      <td>79.5</td>\n",
              "      <td>79.6</td>\n",
              "      <td>79.7</td>\n",
              "      <td>79.9</td>\n",
              "      <td>80.0</td>\n",
              "    </tr>\n",
              "  </tbody>\n",
              "</table>\n",
              "<p>1 rows × 302 columns</p>\n",
              "</div>"
            ],
            "text/plain": [
              "  country  1799  1800  1801  1802  1803  ...  2094  2095  2096  2097  2098  2099\n",
              "1  Angola  27.0  27.0  27.0  27.0  27.0  ...  79.3  79.5  79.6  79.7  79.9  80.0\n",
              "\n",
              "[1 rows x 302 columns]"
            ]
          },
          "metadata": {},
          "execution_count": 172
        }
      ]
    },
    {
      "cell_type": "code",
      "metadata": {
        "colab": {
          "base_uri": "https://localhost:8080/",
          "height": 204
        },
        "id": "R63DhszwR8eu",
        "outputId": "28f67c67-a3ef-48a9-d5ab-8d10bfcaae7c"
      },
      "source": [
        "Exp_Angola = pd.melt(expectativa_de_vida_Angola, id_vars=['country'])\n",
        "Exp_Angola = Exp_Angola.rename(columns={'variable':'ano','value':'idade'})\n",
        "Exp_Angolano = Exp_Angola [Exp_Angola.ano > '1970']\n",
        "Exp_Angolano.head()"
      ],
      "execution_count": 200,
      "outputs": [
        {
          "output_type": "execute_result",
          "data": {
            "text/html": [
              "<div>\n",
              "<style scoped>\n",
              "    .dataframe tbody tr th:only-of-type {\n",
              "        vertical-align: middle;\n",
              "    }\n",
              "\n",
              "    .dataframe tbody tr th {\n",
              "        vertical-align: top;\n",
              "    }\n",
              "\n",
              "    .dataframe thead th {\n",
              "        text-align: right;\n",
              "    }\n",
              "</style>\n",
              "<table border=\"1\" class=\"dataframe\">\n",
              "  <thead>\n",
              "    <tr style=\"text-align: right;\">\n",
              "      <th></th>\n",
              "      <th>country</th>\n",
              "      <th>ano</th>\n",
              "      <th>idade</th>\n",
              "    </tr>\n",
              "  </thead>\n",
              "  <tbody>\n",
              "    <tr>\n",
              "      <th>172</th>\n",
              "      <td>Angola</td>\n",
              "      <td>1971</td>\n",
              "      <td>47.0</td>\n",
              "    </tr>\n",
              "    <tr>\n",
              "      <th>173</th>\n",
              "      <td>Angola</td>\n",
              "      <td>1972</td>\n",
              "      <td>47.2</td>\n",
              "    </tr>\n",
              "    <tr>\n",
              "      <th>174</th>\n",
              "      <td>Angola</td>\n",
              "      <td>1973</td>\n",
              "      <td>47.4</td>\n",
              "    </tr>\n",
              "    <tr>\n",
              "      <th>175</th>\n",
              "      <td>Angola</td>\n",
              "      <td>1974</td>\n",
              "      <td>47.5</td>\n",
              "    </tr>\n",
              "    <tr>\n",
              "      <th>176</th>\n",
              "      <td>Angola</td>\n",
              "      <td>1975</td>\n",
              "      <td>47.5</td>\n",
              "    </tr>\n",
              "  </tbody>\n",
              "</table>\n",
              "</div>"
            ],
            "text/plain": [
              "    country   ano  idade\n",
              "172  Angola  1971   47.0\n",
              "173  Angola  1972   47.2\n",
              "174  Angola  1973   47.4\n",
              "175  Angola  1974   47.5\n",
              "176  Angola  1975   47.5"
            ]
          },
          "metadata": {},
          "execution_count": 200
        }
      ]
    },
    {
      "cell_type": "code",
      "metadata": {
        "colab": {
          "base_uri": "https://localhost:8080/",
          "height": 419
        },
        "id": "UQi9UpNASQt-",
        "outputId": "f34134d3-87b3-411d-91c8-3dd1e4c13642"
      },
      "source": [
        "Angola = pd.merge(Renda_Angolano,Exp_Angolano,on=['country','ano'])\n",
        "Angola.head(250)"
      ],
      "execution_count": 201,
      "outputs": [
        {
          "output_type": "execute_result",
          "data": {
            "text/html": [
              "<div>\n",
              "<style scoped>\n",
              "    .dataframe tbody tr th:only-of-type {\n",
              "        vertical-align: middle;\n",
              "    }\n",
              "\n",
              "    .dataframe tbody tr th {\n",
              "        vertical-align: top;\n",
              "    }\n",
              "\n",
              "    .dataframe thead th {\n",
              "        text-align: right;\n",
              "    }\n",
              "</style>\n",
              "<table border=\"1\" class=\"dataframe\">\n",
              "  <thead>\n",
              "    <tr style=\"text-align: right;\">\n",
              "      <th></th>\n",
              "      <th>country</th>\n",
              "      <th>ano</th>\n",
              "      <th>renda</th>\n",
              "      <th>idade</th>\n",
              "    </tr>\n",
              "  </thead>\n",
              "  <tbody>\n",
              "    <tr>\n",
              "      <th>0</th>\n",
              "      <td>Angola</td>\n",
              "      <td>1971</td>\n",
              "      <td>3140</td>\n",
              "      <td>47.0</td>\n",
              "    </tr>\n",
              "    <tr>\n",
              "      <th>1</th>\n",
              "      <td>Angola</td>\n",
              "      <td>1972</td>\n",
              "      <td>3280</td>\n",
              "      <td>47.2</td>\n",
              "    </tr>\n",
              "    <tr>\n",
              "      <th>2</th>\n",
              "      <td>Angola</td>\n",
              "      <td>1973</td>\n",
              "      <td>3140</td>\n",
              "      <td>47.4</td>\n",
              "    </tr>\n",
              "    <tr>\n",
              "      <th>3</th>\n",
              "      <td>Angola</td>\n",
              "      <td>1974</td>\n",
              "      <td>1970</td>\n",
              "      <td>47.5</td>\n",
              "    </tr>\n",
              "    <tr>\n",
              "      <th>4</th>\n",
              "      <td>Angola</td>\n",
              "      <td>1975</td>\n",
              "      <td>1750</td>\n",
              "      <td>47.5</td>\n",
              "    </tr>\n",
              "    <tr>\n",
              "      <th>...</th>\n",
              "      <td>...</td>\n",
              "      <td>...</td>\n",
              "      <td>...</td>\n",
              "      <td>...</td>\n",
              "    </tr>\n",
              "    <tr>\n",
              "      <th>74</th>\n",
              "      <td>Angola</td>\n",
              "      <td>2045</td>\n",
              "      <td>8940</td>\n",
              "      <td>72.4</td>\n",
              "    </tr>\n",
              "    <tr>\n",
              "      <th>75</th>\n",
              "      <td>Angola</td>\n",
              "      <td>2046</td>\n",
              "      <td>9120</td>\n",
              "      <td>72.5</td>\n",
              "    </tr>\n",
              "    <tr>\n",
              "      <th>76</th>\n",
              "      <td>Angola</td>\n",
              "      <td>2047</td>\n",
              "      <td>9320</td>\n",
              "      <td>72.7</td>\n",
              "    </tr>\n",
              "    <tr>\n",
              "      <th>77</th>\n",
              "      <td>Angola</td>\n",
              "      <td>2048</td>\n",
              "      <td>9520</td>\n",
              "      <td>72.9</td>\n",
              "    </tr>\n",
              "    <tr>\n",
              "      <th>78</th>\n",
              "      <td>Angola</td>\n",
              "      <td>2049</td>\n",
              "      <td>9720</td>\n",
              "      <td>73.1</td>\n",
              "    </tr>\n",
              "  </tbody>\n",
              "</table>\n",
              "<p>79 rows × 4 columns</p>\n",
              "</div>"
            ],
            "text/plain": [
              "   country   ano renda  idade\n",
              "0   Angola  1971  3140   47.0\n",
              "1   Angola  1972  3280   47.2\n",
              "2   Angola  1973  3140   47.4\n",
              "3   Angola  1974  1970   47.5\n",
              "4   Angola  1975  1750   47.5\n",
              "..     ...   ...   ...    ...\n",
              "74  Angola  2045  8940   72.4\n",
              "75  Angola  2046  9120   72.5\n",
              "76  Angola  2047  9320   72.7\n",
              "77  Angola  2048  9520   72.9\n",
              "78  Angola  2049  9720   73.1\n",
              "\n",
              "[79 rows x 4 columns]"
            ]
          },
          "metadata": {},
          "execution_count": 201
        }
      ]
    },
    {
      "cell_type": "markdown",
      "metadata": {
        "id": "-0OOMYIMhAZg"
      },
      "source": [
        "# Visualização e Análise dos Dados"
      ]
    },
    {
      "cell_type": "code",
      "metadata": {
        "id": "bsAyM-y6StXm"
      },
      "source": [
        "import matplotlib.pyplot as plt\n",
        "import seaborn as sns\n",
        "%matplotlib inline "
      ],
      "execution_count": 175,
      "outputs": []
    },
    {
      "cell_type": "code",
      "metadata": {
        "colab": {
          "base_uri": "https://localhost:8080/",
          "height": 730
        },
        "id": "TP8YOn1gS4t2",
        "outputId": "efe6e6cf-17e3-4a6d-c1af-143d9834ec7e"
      },
      "source": [
        "plt.figure(figsize=(15,10))\n",
        "\n",
        "plt.subplot(1,2,1)\n",
        "sns.lineplot(x=Exp_Angolano.idade, y=Exp_Angolano.ano, label='Expectativa de vida')\n",
        "plt.subplot(1,2,2)\n",
        "sns.lineplot(x=Renda_Angolano.renda, y= Renda_Angolano.ano, label='Renda per capita', c='red')\n",
        "\n",
        "plt.title('Angola: Expectativa de vida X Renda per capita', fontsize=14)\n",
        "plt.legend()\n",
        "plt.xticks(rotation=90)\n",
        "plt.show()"
      ],
      "execution_count": 203,
      "outputs": [
        {
          "output_type": "stream",
          "name": "stderr",
          "text": [
            "/usr/local/lib/python3.7/dist-packages/seaborn/relational.py:514: MatplotlibDeprecationWarning: Saw kwargs ['c', 'color'] which are all aliases for 'color'.  Kept value from 'color'.  Passing multiple aliases for the same property will raise a TypeError in 3.3.\n",
            "  line, = ax.plot([], [], **kws)\n",
            "/usr/local/lib/python3.7/dist-packages/seaborn/relational.py:529: MatplotlibDeprecationWarning: Saw kwargs ['c', 'color'] which are all aliases for 'color'.  Kept value from 'color'.  Passing multiple aliases for the same property will raise a TypeError in 3.3.\n",
            "  line, = ax.plot(x, y, **kws)\n"
          ]
        },
        {
          "output_type": "display_data",
          "data": {
            "image/png": "[encoded data removed]",
            "text/plain": [
              "<Figure size 1080x720 with 2 Axes>"
            ]
          },
          "metadata": {
            "needs_background": "light"
          }
        }
      ]
    },
    {
      "cell_type": "code",
      "metadata": {
        "colab": {
          "base_uri": "https://localhost:8080/",
          "height": 388
        },
        "id": "EUA6B-SOUH2m",
        "outputId": "61c7dda5-d384-45fd-96d3-9c79c698c5a6"
      },
      "source": [
        "import numpy as np \n",
        "plt.figure(figsize=(12,6))\n",
        "\n",
        "sns.lineplot(x=BR.year, y=np.log( BR.school ), label='school')\n",
        "sns.lineplot(x=BR.year, y=np.log( BR.co2 ), label='co2')\n",
        "\n",
        "plt.title('Brasil: Escolaridade X Emissões CO2 (Log Scale)', fontsize=14)\n",
        "plt.legend()\n",
        "plt.xticks(rotation=90)\n",
        "plt.show()"
      ],
      "execution_count": 177,
      "outputs": [
        {
          "output_type": "error",
          "ename": "AttributeError",
          "evalue": "ignored",
          "traceback": [
            "\u001b[0;31m---------------------------------------------------------------------------\u001b[0m",
            "\u001b[0;31mAttributeError\u001b[0m                            Traceback (most recent call last)",
            "\u001b[0;32m<ipython-input-177-f6907d0a9268>\u001b[0m in \u001b[0;36m<module>\u001b[0;34m()\u001b[0m\n\u001b[1;32m      2\u001b[0m \u001b[0mplt\u001b[0m\u001b[0;34m.\u001b[0m\u001b[0mfigure\u001b[0m\u001b[0;34m(\u001b[0m\u001b[0mfigsize\u001b[0m\u001b[0;34m=\u001b[0m\u001b[0;34m(\u001b[0m\u001b[0;36m12\u001b[0m\u001b[0;34m,\u001b[0m\u001b[0;36m6\u001b[0m\u001b[0;34m)\u001b[0m\u001b[0;34m)\u001b[0m\u001b[0;34m\u001b[0m\u001b[0;34m\u001b[0m\u001b[0m\n\u001b[1;32m      3\u001b[0m \u001b[0;34m\u001b[0m\u001b[0m\n\u001b[0;32m----> 4\u001b[0;31m \u001b[0msns\u001b[0m\u001b[0;34m.\u001b[0m\u001b[0mlineplot\u001b[0m\u001b[0;34m(\u001b[0m\u001b[0mx\u001b[0m\u001b[0;34m=\u001b[0m\u001b[0mBR\u001b[0m\u001b[0;34m.\u001b[0m\u001b[0myear\u001b[0m\u001b[0;34m,\u001b[0m \u001b[0my\u001b[0m\u001b[0;34m=\u001b[0m\u001b[0mnp\u001b[0m\u001b[0;34m.\u001b[0m\u001b[0mlog\u001b[0m\u001b[0;34m(\u001b[0m \u001b[0mBR\u001b[0m\u001b[0;34m.\u001b[0m\u001b[0mschool\u001b[0m \u001b[0;34m)\u001b[0m\u001b[0;34m,\u001b[0m \u001b[0mlabel\u001b[0m\u001b[0;34m=\u001b[0m\u001b[0;34m'school'\u001b[0m\u001b[0;34m)\u001b[0m\u001b[0;34m\u001b[0m\u001b[0;34m\u001b[0m\u001b[0m\n\u001b[0m\u001b[1;32m      5\u001b[0m \u001b[0msns\u001b[0m\u001b[0;34m.\u001b[0m\u001b[0mlineplot\u001b[0m\u001b[0;34m(\u001b[0m\u001b[0mx\u001b[0m\u001b[0;34m=\u001b[0m\u001b[0mBR\u001b[0m\u001b[0;34m.\u001b[0m\u001b[0myear\u001b[0m\u001b[0;34m,\u001b[0m \u001b[0my\u001b[0m\u001b[0;34m=\u001b[0m\u001b[0mnp\u001b[0m\u001b[0;34m.\u001b[0m\u001b[0mlog\u001b[0m\u001b[0;34m(\u001b[0m \u001b[0mBR\u001b[0m\u001b[0;34m.\u001b[0m\u001b[0mco2\u001b[0m \u001b[0;34m)\u001b[0m\u001b[0;34m,\u001b[0m \u001b[0mlabel\u001b[0m\u001b[0;34m=\u001b[0m\u001b[0;34m'co2'\u001b[0m\u001b[0;34m)\u001b[0m\u001b[0;34m\u001b[0m\u001b[0;34m\u001b[0m\u001b[0m\n\u001b[1;32m      6\u001b[0m \u001b[0;34m\u001b[0m\u001b[0m\n",
            "\u001b[0;32m/usr/local/lib/python3.7/dist-packages/pandas/core/generic.py\u001b[0m in \u001b[0;36m__getattr__\u001b[0;34m(self, name)\u001b[0m\n\u001b[1;32m   5139\u001b[0m             \u001b[0;32mif\u001b[0m \u001b[0mself\u001b[0m\u001b[0;34m.\u001b[0m\u001b[0m_info_axis\u001b[0m\u001b[0;34m.\u001b[0m\u001b[0m_can_hold_identifiers_and_holds_name\u001b[0m\u001b[0;34m(\u001b[0m\u001b[0mname\u001b[0m\u001b[0;34m)\u001b[0m\u001b[0;34m:\u001b[0m\u001b[0;34m\u001b[0m\u001b[0;34m\u001b[0m\u001b[0m\n\u001b[1;32m   5140\u001b[0m                 \u001b[0;32mreturn\u001b[0m \u001b[0mself\u001b[0m\u001b[0;34m[\u001b[0m\u001b[0mname\u001b[0m\u001b[0;34m]\u001b[0m\u001b[0;34m\u001b[0m\u001b[0;34m\u001b[0m\u001b[0m\n\u001b[0;32m-> 5141\u001b[0;31m             \u001b[0;32mreturn\u001b[0m \u001b[0mobject\u001b[0m\u001b[0;34m.\u001b[0m\u001b[0m__getattribute__\u001b[0m\u001b[0;34m(\u001b[0m\u001b[0mself\u001b[0m\u001b[0;34m,\u001b[0m \u001b[0mname\u001b[0m\u001b[0;34m)\u001b[0m\u001b[0;34m\u001b[0m\u001b[0;34m\u001b[0m\u001b[0m\n\u001b[0m\u001b[1;32m   5142\u001b[0m \u001b[0;34m\u001b[0m\u001b[0m\n\u001b[1;32m   5143\u001b[0m     \u001b[0;32mdef\u001b[0m \u001b[0m__setattr__\u001b[0m\u001b[0;34m(\u001b[0m\u001b[0mself\u001b[0m\u001b[0;34m,\u001b[0m \u001b[0mname\u001b[0m\u001b[0;34m:\u001b[0m \u001b[0mstr\u001b[0m\u001b[0;34m,\u001b[0m \u001b[0mvalue\u001b[0m\u001b[0;34m)\u001b[0m \u001b[0;34m->\u001b[0m \u001b[0;32mNone\u001b[0m\u001b[0;34m:\u001b[0m\u001b[0;34m\u001b[0m\u001b[0;34m\u001b[0m\u001b[0m\n",
            "\u001b[0;31mAttributeError\u001b[0m: 'DataFrame' object has no attribute 'year'"
          ]
        },
        {
          "output_type": "display_data",
          "data": {
            "text/plain": [
              "<Figure size 864x432 with 0 Axes>"
            ]
          },
          "metadata": {}
        }
      ]
    },
    {
      "cell_type": "markdown",
      "metadata": {
        "id": "Ca8LVWKmhPI7"
      },
      "source": [
        "# World Inequality Database\n",
        "\n",
        "![imagem](https://www.hup.harvard.edu/images/jackets/9780674979857.jpg)\n",
        "\n",
        "Vamos ver como combinar dados de outras fontes? \n",
        "\n",
        "O World Inequality Database é uma base de dados aberta que mantem informações sobre desigualdade e concentração de renda no mundo. Esses dados são a base do livro **Capital in the Twenty-First Century** de *Thomas Piketty*."
      ]
    },
    {
      "cell_type": "code",
      "metadata": {
        "id": "o2TzQh4RhJax"
      },
      "source": [
        "from IPython.display import IFrame\n",
        "IFrame('https://wid.world/data/', width='1000', height=400)"
      ],
      "execution_count": null,
      "outputs": []
    },
    {
      "cell_type": "markdown",
      "metadata": {
        "id": "Gzmc6wQukQxY"
      },
      "source": [
        "Se você for empregar essa base escolha os índices de interesse, a estrutura da tabela e dê preferência para o formato `.xlsx` para download."
      ]
    },
    {
      "cell_type": "markdown",
      "metadata": {
        "id": "oJ49y2FEkqNp"
      },
      "source": [
        "# Preparação dos Dados\n",
        "\n",
        "Vamos selecionar dados do Brasil de 2000-2019 sobre a renda per capta (gpd) e o percentual da renda concentrado nos 10% mais ricos da população (percentil 10), e combinar esses dados com as informações que já coletamos do gapminder."
      ]
    },
    {
      "cell_type": "code",
      "metadata": {
        "id": "K-IhvpGVUkKu"
      },
      "source": [
        "gpd_BR = pd.read_excel('http://meusite.mackenzie.br/rogerio/data_load/WID_Data_13092021-135730.xlsx',header=None)\n",
        "gpd_BR\n"
      ],
      "execution_count": null,
      "outputs": []
    },
    {
      "cell_type": "code",
      "metadata": {
        "id": "mLvFWNqTZjiH"
      },
      "source": [
        "gpd_BR.columns = ['country', 'ind_description',  'ind_code', 'year', 'value']\n",
        "gpd_BR.year = gpd_BR.year.astype(str)\n",
        "display(gpd_BR)\n",
        "display(gpd_BR.dtypes)\n",
        "        "
      ],
      "execution_count": null,
      "outputs": []
    },
    {
      "cell_type": "code",
      "metadata": {
        "id": "pgCD5FOuaH1I"
      },
      "source": [
        "gpd_BR_all = gpd_BR[ gpd_BR.ind_code == 'pall' ][['country', 'year', 'value']]\n",
        "gpd_BR_perc = gpd_BR[ gpd_BR.ind_code == 'p90p100' ][['country', 'year', 'value']]\n",
        "\n",
        "display(gpd_BR_all)\n",
        "display(gpd_BR_perc)"
      ],
      "execution_count": null,
      "outputs": []
    },
    {
      "cell_type": "code",
      "metadata": {
        "id": "ocklGb7QZPIh"
      },
      "source": [
        "BR = pd.merge(BR,gpd_BR_all,on=['country','year'])\n",
        "BR = BR.rename(columns={'value':'gpd'})\n",
        "BR.head()"
      ],
      "execution_count": null,
      "outputs": []
    },
    {
      "cell_type": "code",
      "metadata": {
        "id": "iZg3EJHkdRIA"
      },
      "source": [
        "BR = pd.merge(BR,gpd_BR_perc,on=['country','year'])\n",
        "BR = BR.rename(columns={'value':'gpd_perc10'})\n",
        "BR.head()"
      ],
      "execution_count": null,
      "outputs": []
    },
    {
      "cell_type": "markdown",
      "metadata": {
        "id": "86IzboMblYj7"
      },
      "source": [
        "# Visualização e Análise dos Dados\n",
        "\n",
        "Como queremos comparar dados em escalas muito diferentes uma sugestão é empregarmos dados normalizados."
      ]
    },
    {
      "cell_type": "code",
      "metadata": {
        "id": "Gj2PqeOJdomx"
      },
      "source": [
        "for c in BR[['school','co2','gpd','gpd_perc10']]:\n",
        "  BR[c] = BR[c] / BR[c].max()\n",
        "BR.head()"
      ],
      "execution_count": null,
      "outputs": []
    },
    {
      "cell_type": "code",
      "metadata": {
        "id": "XYW8IH5ZeJZB"
      },
      "source": [
        "plt.figure(figsize=(12,6))\n",
        "\n",
        "for c in BR[['school','co2','gpd','gpd_perc10']]:\n",
        "  sns.lineplot(x=BR.year, y=BR[c], label=c)\n",
        "\n",
        "plt.title('Brasil, Escolaridade x CO2 X Renda X Concentração', fontsize=14)\n",
        "plt.legend()\n",
        "plt.xticks(rotation=90)\n",
        "plt.show()"
      ],
      "execution_count": null,
      "outputs": []
    },
    {
      "cell_type": "markdown",
      "metadata": {
        "id": "DptLVhnAlkbQ"
      },
      "source": [
        "# Conclusões\n",
        "\n",
        "Às análises devem ser finalizadas com uma conclusão, em geral um texto escrito e que inclui os resultados, limitações da análise e sugestões de próximos passos.\n",
        "\n",
        "> *Os dados acima mostram que a escolaridade, renda e concentração de renda vem crescendo no Brasil de modo bastante correlacionado nas últimas décadas, havendo entretanto um maior aumento de emissões nos últimos anos.*"
      ]
    }
  ]
}